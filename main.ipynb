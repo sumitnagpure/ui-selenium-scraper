{
 "cells": [
  {
   "cell_type": "markdown",
   "metadata": {},
   "source": [
    "Displaying the results in the result page"
   ]
  },
  {
   "cell_type": "code",
   "execution_count": 2,
   "metadata": {},
   "outputs": [
    {
     "name": "stdout",
     "output_type": "stream",
     "text": [
      " * Serving Flask app '__main__'\n",
      " * Debug mode: off\n"
     ]
    },
    {
     "name": "stderr",
     "output_type": "stream",
     "text": [
      "WARNING: This is a development server. Do not use it in a production deployment. Use a production WSGI server instead.\n",
      " * Running on http://127.0.0.1:5000\n",
      "Press CTRL+C to quit\n",
      "127.0.0.1 - - [12/Jan/2024 11:47:14] \"GET / HTTP/1.1\" 200 -\n",
      "127.0.0.1 - - [12/Jan/2024 11:47:16] \"GET / HTTP/1.1\" 200 -\n",
      "127.0.0.1 - - [12/Jan/2024 11:47:34] \"POST /scrape HTTP/1.1\" 200 -\n"
     ]
    }
   ],
   "source": [
    "from flask import Flask, render_template, request\n",
    "from selenium import webdriver\n",
    "from selenium.webdriver.common.by import By\n",
    "\n",
    "app = Flask(__name__)\n",
    "\n",
    "@app.route('/')\n",
    "def index():\n",
    "    return render_template('index.html')\n",
    "\n",
    "@app.route('/scrape', methods=['POST'])\n",
    "def scrape():\n",
    "    website = request.form['website']\n",
    "    identifier = request.form['identifier']\n",
    "    identifier_id = request.form['identifier_id']\n",
    "\n",
    "    # Using Chrome WebDriver. You can also use other web drivers.\n",
    "    driver = webdriver.Chrome()\n",
    "\n",
    "    try:\n",
    "        driver.get(website)\n",
    "        # Find elements based on the identifier and identifier_id provided\n",
    "        if identifier == 'xpath':\n",
    "            elements = driver.find_elements(By.XPATH, identifier_id)\n",
    "        elif identifier == 'id':\n",
    "            elements = driver.find_elements(By.ID, identifier_id)\n",
    "        elif identifier == 'class_name':\n",
    "            elements = driver.find_elements(By.CLASS_NAME, identifier_id)\n",
    "        elif identifier == 'name':\n",
    "            elements = driver.find_elements(By.NAME, identifier_id)\n",
    "        elif identifier == 'tag_name':\n",
    "            elements = driver.find_elements(By.TAG_NAME, identifier_id)\n",
    "        else:\n",
    "            return \"Invalid identifier\"\n",
    "\n",
    "        result = [element.text for element in elements]\n",
    "\n",
    "    finally:\n",
    "        driver.quit()\n",
    "\n",
    "    return render_template('result.html', result=result)\n",
    "\n",
    "if __name__ == '__main__':\n",
    "    app.run(debug=False)\n"
   ]
  },
  {
   "cell_type": "markdown",
   "metadata": {},
   "source": [
    "saving both the identifiers in txt format."
   ]
  },
  {
   "cell_type": "code",
   "execution_count": 5,
   "metadata": {},
   "outputs": [
    {
     "name": "stdout",
     "output_type": "stream",
     "text": [
      " * Serving Flask app '__main__'\n",
      " * Debug mode: off\n"
     ]
    },
    {
     "name": "stderr",
     "output_type": "stream",
     "text": [
      "WARNING: This is a development server. Do not use it in a production deployment. Use a production WSGI server instead.\n",
      " * Running on http://127.0.0.1:5000\n",
      "Press CTRL+C to quit\n",
      "127.0.0.1 - - [12/Jan/2024 12:26:39] \"GET / HTTP/1.1\" 200 -\n",
      "127.0.0.1 - - [12/Jan/2024 12:26:58] \"POST /scrape HTTP/1.1\" 200 -\n"
     ]
    }
   ],
   "source": [
    "from flask import Flask, render_template, request, send_file\n",
    "from selenium import webdriver\n",
    "from selenium.webdriver.common.by import By\n",
    "\n",
    "app = Flask(__name__)\n",
    "\n",
    "@app.route('/')\n",
    "def index():\n",
    "    return render_template('index.html')\n",
    "\n",
    "@app.route('/scrape', methods=['POST'])\n",
    "def scrape():\n",
    "    website = request.form['website']\n",
    "    identifiers = request.form.getlist('identifier')\n",
    "    identifier_ids = request.form.getlist('identifier_id')\n",
    "\n",
    "    driver = webdriver.Chrome()\n",
    "\n",
    "    try:\n",
    "        driver.get(website)\n",
    "\n",
    "        result = []\n",
    "        for i in range(len(identifiers)):\n",
    "            if identifiers[i] == 'xpath':\n",
    "                elements = driver.find_elements(By.XPATH, identifier_ids[i])\n",
    "            elif identifiers[i] == 'id':\n",
    "                elements = driver.find_elements(By.ID, identifier_ids[i])\n",
    "            elif identifiers[i] == 'class_name':\n",
    "                elements = driver.find_elements(By.CLASS_NAME, identifier_ids[i])\n",
    "            elif identifiers[i] == 'name':\n",
    "                elements = driver.find_elements(By.NAME, identifier_ids[i])\n",
    "            elif identifiers[i] == 'tag_name':\n",
    "                elements = driver.find_elements(By.TAG_NAME, identifier_ids[i])\n",
    "            else:\n",
    "                return \"Invalid identifier\"\n",
    "\n",
    "            result.extend([element.text for element in elements])\n",
    "\n",
    "        file_path = 'scraped_data.txt'\n",
    "        with open(file_path, 'w') as file:\n",
    "            for item in result:\n",
    "                file.write(\"%s\\n\" % item)\n",
    "\n",
    "    finally:\n",
    "        driver.quit()\n",
    "\n",
    "    return send_file(file_path, as_attachment=True)\n",
    "\n",
    "if __name__ == '__main__':\n",
    "    app.run(debug=False)"
   ]
  }
 ],
 "metadata": {
  "kernelspec": {
   "display_name": "Python 3",
   "language": "python",
   "name": "python3"
  },
  "language_info": {
   "codemirror_mode": {
    "name": "ipython",
    "version": 3
   },
   "file_extension": ".py",
   "mimetype": "text/x-python",
   "name": "python",
   "nbconvert_exporter": "python",
   "pygments_lexer": "ipython3",
   "version": "3.11.2"
  }
 },
 "nbformat": 4,
 "nbformat_minor": 2
}
